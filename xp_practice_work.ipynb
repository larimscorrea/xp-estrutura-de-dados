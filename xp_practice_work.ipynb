{
  "nbformat": 4,
  "nbformat_minor": 0,
  "metadata": {
    "colab": {
      "provenance": [],
      "authorship_tag": "ABX9TyP/UHYkEIg8KSAu1KxDB0BW",
      "include_colab_link": true
    },
    "kernelspec": {
      "name": "python3",
      "display_name": "Python 3"
    },
    "language_info": {
      "name": "python"
    }
  },
  "cells": [
    {
      "cell_type": "markdown",
      "metadata": {
        "id": "view-in-github",
        "colab_type": "text"
      },
      "source": [
        "<a href=\"https://colab.research.google.com/github/larimscorrea/xp-estrutura-de-dados/blob/main/xp_practice_work.ipynb\" target=\"_parent\"><img src=\"https://colab.research.google.com/assets/colab-badge.svg\" alt=\"Open In Colab\"/></a>"
      ]
    },
    {
      "cell_type": "markdown",
      "source": [
        "# **prática 2:**"
      ],
      "metadata": {
        "id": "Ir3JN5xVnHp5"
      }
    },
    {
      "cell_type": "code",
      "source": [
        "array = [1,2,3,4,5]\n",
        "for i in array:\n",
        " print(i)\n"
      ],
      "metadata": {
        "colab": {
          "base_uri": "https://localhost:8080/"
        },
        "id": "gQEwU4iUmFca",
        "outputId": "d32c5cd4-565f-4460-f9f9-3a00b1354035"
      },
      "execution_count": null,
      "outputs": [
        {
          "output_type": "stream",
          "name": "stdout",
          "text": [
            "1\n",
            "2\n",
            "3\n",
            "4\n",
            "5\n"
          ]
        }
      ]
    },
    {
      "cell_type": "code",
      "source": [
        "print(array[1])\n"
      ],
      "metadata": {
        "colab": {
          "base_uri": "https://localhost:8080/"
        },
        "id": "PEIoXo8lmQbQ",
        "outputId": "12f595f5-84c4-4624-bfae-cf882636d2b0"
      },
      "execution_count": null,
      "outputs": [
        {
          "output_type": "stream",
          "name": "stdout",
          "text": [
            "2\n"
          ]
        }
      ]
    },
    {
      "cell_type": "code",
      "source": [
        "array[1] = 6\n",
        "print(array[1])\n"
      ],
      "metadata": {
        "colab": {
          "base_uri": "https://localhost:8080/"
        },
        "id": "mL2Vb9LjmiKJ",
        "outputId": "1b7e6622-acf2-4038-e85f-4f1fa7884184"
      },
      "execution_count": null,
      "outputs": [
        {
          "output_type": "stream",
          "name": "stdout",
          "text": [
            "6\n"
          ]
        }
      ]
    },
    {
      "cell_type": "code",
      "source": [
        "array.append(7)\n",
        "print(array)\n",
        "\n"
      ],
      "metadata": {
        "colab": {
          "base_uri": "https://localhost:8080/"
        },
        "id": "Y8jnLrdymxQa",
        "outputId": "1db5b6d2-218b-42ac-f064-8577598f7c9d"
      },
      "execution_count": null,
      "outputs": [
        {
          "output_type": "stream",
          "name": "stdout",
          "text": [
            "[1, 6, 3, 4, 5, 7]\n"
          ]
        }
      ]
    },
    {
      "cell_type": "code",
      "source": [
        "array.pop()\n",
        "print(array)"
      ],
      "metadata": {
        "colab": {
          "base_uri": "https://localhost:8080/"
        },
        "id": "6x3KtynKm0GL",
        "outputId": "30cee3b5-5eb2-4f38-c2dd-808f96ad79cd"
      },
      "execution_count": null,
      "outputs": [
        {
          "output_type": "stream",
          "name": "stdout",
          "text": [
            "[1, 6, 3, 4, 5]\n"
          ]
        }
      ]
    },
    {
      "cell_type": "markdown",
      "source": [
        "## **prática 3:**"
      ],
      "metadata": {
        "id": "LhdSNgJfqwNR"
      }
    },
    {
      "cell_type": "code",
      "source": [
        "def push():\n",
        " print('O aluno deve implementar o push')\n"
      ],
      "metadata": {
        "id": "d6O9zsZVq2Sq"
      },
      "execution_count": null,
      "outputs": []
    },
    {
      "cell_type": "code",
      "source": [
        "def pop():\n",
        " print('O aluno deve implementar o pop')"
      ],
      "metadata": {
        "id": "Tm6ZuJMHq2Rv"
      },
      "execution_count": null,
      "outputs": []
    },
    {
      "cell_type": "code",
      "source": [
        "pilha = [4,5,6,9,7]"
      ],
      "metadata": {
        "id": "P73ZB-giqyxJ"
      },
      "execution_count": null,
      "outputs": []
    },
    {
      "cell_type": "code",
      "source": [
        "# while True:\n",
        "#  item = int(input(\"Digite o número a ser adicionado à pilha: \"))\n",
        "#  push()\n",
        "#  print(pilha)"
      ],
      "metadata": {
        "id": "XRTkN0ABrXCD"
      },
      "execution_count": null,
      "outputs": []
    },
    {
      "cell_type": "code",
      "source": [
        "escolha = input(\"Deseja remover o último item? (s/n)\")\n",
        "if escolha == 's':\n",
        " pop()\n",
        " print(pilha)\n",
        "else:\n"
      ],
      "metadata": {
        "colab": {
          "base_uri": "https://localhost:8080/",
          "height": 130
        },
        "id": "MDNWXK0Erh2h",
        "outputId": "4877b12a-d6e2-4a9a-fa5f-2d4409008377"
      },
      "execution_count": null,
      "outputs": [
        {
          "output_type": "error",
          "ename": "SyntaxError",
          "evalue": "ignored",
          "traceback": [
            "\u001b[0;36m  File \u001b[0;32m\"<ipython-input-21-31508fa64bd0>\"\u001b[0;36m, line \u001b[0;32m5\u001b[0m\n\u001b[0;31m    else:\u001b[0m\n\u001b[0m         ^\u001b[0m\n\u001b[0;31mSyntaxError\u001b[0m\u001b[0;31m:\u001b[0m unexpected EOF while parsing\n"
          ]
        }
      ]
    },
    {
      "cell_type": "code",
      "source": [
        "fila = []\n",
        "MAX_TAM = 5\n",
        "cursor = 0\n",
        "def adicionar(elemento):\n",
        " if len(fila) < MAX_TAM:\n",
        " fila.append(elemento)\n",
        " print(f'O elemento {elemento} foi adicionado na fila.')\n",
        " else:\n",
        " print('A fila está cheia!')\n",
        "3\n",
        "def remover():\n",
        " global cursor\n",
        " if len(fila) > 0:\n",
        " elemento = fila.pop(cursor)\n",
        " print(f'O elemento {elemento} foi removido da fila.')\n",
        " cursor = (cursor + 1) % MAX_TAM\n",
        " else:\n",
        " print('A fila está vazia!')\n",
        "def exibir():\n",
        " print('Elementos da fila:', fila)\n",
        "adicionar(10)\n",
        "adicionar(20)\n",
        "adicionar(30)\n",
        "adicionar(40)\n",
        "adicionar(50)\n",
        "adicionar(60)\n",
        "exibir()\n",
        "remover()\n",
        "remover()\n",
        "remover()\n",
        "exibir()"
      ],
      "metadata": {
        "id": "mLiBJo-BslpK",
        "outputId": "109d8cf9-11d2-4c61-9512-b39c7e5f4c30",
        "colab": {
          "base_uri": "https://localhost:8080/",
          "height": 130
        }
      },
      "execution_count": null,
      "outputs": [
        {
          "output_type": "error",
          "ename": "IndentationError",
          "evalue": "ignored",
          "traceback": [
            "\u001b[0;36m  File \u001b[0;32m\"<ipython-input-22-928cd3068ddc>\"\u001b[0;36m, line \u001b[0;32m6\u001b[0m\n\u001b[0;31m    fila.append(elemento)\u001b[0m\n\u001b[0m    ^\u001b[0m\n\u001b[0;31mIndentationError\u001b[0m\u001b[0;31m:\u001b[0m expected an indented block\n"
          ]
        }
      ]
    }
  ]
}